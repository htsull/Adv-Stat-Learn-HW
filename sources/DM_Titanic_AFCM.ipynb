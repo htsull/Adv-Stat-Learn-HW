{
 "cells": [
  {
   "cell_type": "markdown",
   "metadata": {},
   "source": [
    "# **Reduction de Dimension : MCA**"
   ]
  },
  {
   "cell_type": "markdown",
   "metadata": {},
   "source": [
    "#### To use mca in a project:\n",
    "- import mca\n",
    "- mca_df = mca.MCA(dataframe[, cols=None][, ncols=None][, benzecri=True][, TOL=1e-4])\n",
    "- cols : Une liste des colonnes du DataFrame pandas à encoder et à traiter.\n",
    "- ncols : Le nombre de facteurs à conserver. Aucun pour tout conserver (par défaut).\n",
    "- benzecri :Effectuer la correction de Benzecri pour réduire les valeurs propres (par défaut).\n",
    "- TOL : La valeur en dessous de laquelle arrondir les valeurs propres à zéro."
   ]
  },
  {
   "cell_type": "code",
   "execution_count": 41,
   "metadata": {},
   "outputs": [],
   "source": [
    "import pandas as pd\n",
    "import numpy as np\n",
    "import matplotlib.pyplot as plt\n",
    "import seaborn as sns\n",
    "from mca import MCA\n",
    "sns.set_style(\"whitegrid\")"
   ]
  },
  {
   "cell_type": "code",
   "execution_count": 42,
   "metadata": {},
   "outputs": [],
   "source": [
    "train_data = pd.read_csv(r'https://raw.githubusercontent.com/htsull/Adv-Stat-Learn-HW/main/data/train-data.csv')\n",
    "test_data = pd.read_csv(r'https://raw.githubusercontent.com/htsull/Adv-Stat-Learn-HW/main/data/test-data.csv')"
   ]
  },
  {
   "cell_type": "code",
   "execution_count": 43,
   "metadata": {},
   "outputs": [
    {
     "data": {
      "text/plain": [
       "(Index(['Survived', 'Age', 'Fare', 'Pclass_1', 'Pclass_2', 'Pclass_3',\n",
       "        'Sex_female', 'Sex_male', 'SibSp_0', 'SibSp_1', 'SibSp_2', 'SibSp_3',\n",
       "        'SibSp_4', 'SibSp_5', 'SibSp_8', 'Parch_0', 'Parch_1', 'Parch_2',\n",
       "        'Parch_3', 'Parch_4', 'Parch_5', 'Parch_6', 'Embarked_C', 'Embarked_Q',\n",
       "        'Embarked_S'],\n",
       "       dtype='object'),\n",
       " Index(['Survived', 'Age', 'Fare', 'Pclass_1', 'Pclass_2', 'Pclass_3',\n",
       "        'Sex_female', 'Sex_male', 'SibSp_0', 'SibSp_1', 'SibSp_2', 'SibSp_3',\n",
       "        'SibSp_4', 'SibSp_5', 'SibSp_8', 'Parch_0', 'Parch_1', 'Parch_2',\n",
       "        'Parch_3', 'Parch_4', 'Parch_5', 'Parch_6', 'Embarked_C', 'Embarked_Q',\n",
       "        'Embarked_S'],\n",
       "       dtype='object'))"
      ]
     },
     "execution_count": 43,
     "metadata": {},
     "output_type": "execute_result"
    }
   ],
   "source": [
    "train_data.columns, test_data.columns"
   ]
  },
  {
   "cell_type": "code",
   "execution_count": 44,
   "metadata": {},
   "outputs": [
    {
     "data": {
      "text/plain": [
       "((712, 25), (179, 25))"
      ]
     },
     "execution_count": 44,
     "metadata": {},
     "output_type": "execute_result"
    }
   ],
   "source": [
    "train_data.shape, test_data.shape"
   ]
  },
  {
   "cell_type": "code",
   "execution_count": 45,
   "metadata": {},
   "outputs": [
    {
     "data": {
      "text/plain": [
       "(891, 25)"
      ]
     },
     "execution_count": 45,
     "metadata": {},
     "output_type": "execute_result"
    }
   ],
   "source": [
    "#concatenate train and test data\n",
    "data = pd.concat([train_data, test_data], axis=0)\n",
    "# print data shape\n",
    "data.shape"
   ]
  },
  {
   "cell_type": "markdown",
   "metadata": {},
   "source": [
    "### **Concatenation des Datas**"
   ]
  },
  {
   "cell_type": "code",
   "execution_count": 46,
   "metadata": {},
   "outputs": [],
   "source": [
    "df1 = np.concatenate((np.array(train_data), np.array(test_data)))"
   ]
  },
  {
   "cell_type": "code",
   "execution_count": 47,
   "metadata": {
    "scrolled": true
   },
   "outputs": [
    {
     "data": {
      "text/html": [
       "<div>\n",
       "<style scoped>\n",
       "    .dataframe tbody tr th:only-of-type {\n",
       "        vertical-align: middle;\n",
       "    }\n",
       "\n",
       "    .dataframe tbody tr th {\n",
       "        vertical-align: top;\n",
       "    }\n",
       "\n",
       "    .dataframe thead th {\n",
       "        text-align: right;\n",
       "    }\n",
       "</style>\n",
       "<table border=\"1\" class=\"dataframe\">\n",
       "  <thead>\n",
       "    <tr style=\"text-align: right;\">\n",
       "      <th></th>\n",
       "      <th>Survived</th>\n",
       "      <th>Age</th>\n",
       "      <th>Fare</th>\n",
       "      <th>Pclass_1</th>\n",
       "      <th>Pclass_2</th>\n",
       "      <th>Pclass_3</th>\n",
       "      <th>Sex_female</th>\n",
       "      <th>Sex_male</th>\n",
       "      <th>SibSp_0</th>\n",
       "      <th>SibSp_1</th>\n",
       "      <th>...</th>\n",
       "      <th>Parch_0</th>\n",
       "      <th>Parch_1</th>\n",
       "      <th>Parch_2</th>\n",
       "      <th>Parch_3</th>\n",
       "      <th>Parch_4</th>\n",
       "      <th>Parch_5</th>\n",
       "      <th>Parch_6</th>\n",
       "      <th>Embarked_C</th>\n",
       "      <th>Embarked_Q</th>\n",
       "      <th>Embarked_S</th>\n",
       "    </tr>\n",
       "  </thead>\n",
       "  <tbody>\n",
       "    <tr>\n",
       "      <th>0</th>\n",
       "      <td>0.0</td>\n",
       "      <td>28.500000</td>\n",
       "      <td>7.2292</td>\n",
       "      <td>0.0</td>\n",
       "      <td>0.0</td>\n",
       "      <td>1.0</td>\n",
       "      <td>0.0</td>\n",
       "      <td>1.0</td>\n",
       "      <td>1.0</td>\n",
       "      <td>0.0</td>\n",
       "      <td>...</td>\n",
       "      <td>1.0</td>\n",
       "      <td>0.0</td>\n",
       "      <td>0.0</td>\n",
       "      <td>0.0</td>\n",
       "      <td>0.0</td>\n",
       "      <td>0.0</td>\n",
       "      <td>0.0</td>\n",
       "      <td>1.0</td>\n",
       "      <td>0.0</td>\n",
       "      <td>0.0</td>\n",
       "    </tr>\n",
       "    <tr>\n",
       "      <th>1</th>\n",
       "      <td>1.0</td>\n",
       "      <td>27.000000</td>\n",
       "      <td>10.5000</td>\n",
       "      <td>0.0</td>\n",
       "      <td>1.0</td>\n",
       "      <td>0.0</td>\n",
       "      <td>1.0</td>\n",
       "      <td>0.0</td>\n",
       "      <td>1.0</td>\n",
       "      <td>0.0</td>\n",
       "      <td>...</td>\n",
       "      <td>1.0</td>\n",
       "      <td>0.0</td>\n",
       "      <td>0.0</td>\n",
       "      <td>0.0</td>\n",
       "      <td>0.0</td>\n",
       "      <td>0.0</td>\n",
       "      <td>0.0</td>\n",
       "      <td>0.0</td>\n",
       "      <td>0.0</td>\n",
       "      <td>1.0</td>\n",
       "    </tr>\n",
       "    <tr>\n",
       "      <th>2</th>\n",
       "      <td>1.0</td>\n",
       "      <td>29.699118</td>\n",
       "      <td>16.1000</td>\n",
       "      <td>0.0</td>\n",
       "      <td>0.0</td>\n",
       "      <td>1.0</td>\n",
       "      <td>1.0</td>\n",
       "      <td>0.0</td>\n",
       "      <td>0.0</td>\n",
       "      <td>1.0</td>\n",
       "      <td>...</td>\n",
       "      <td>1.0</td>\n",
       "      <td>0.0</td>\n",
       "      <td>0.0</td>\n",
       "      <td>0.0</td>\n",
       "      <td>0.0</td>\n",
       "      <td>0.0</td>\n",
       "      <td>0.0</td>\n",
       "      <td>0.0</td>\n",
       "      <td>0.0</td>\n",
       "      <td>1.0</td>\n",
       "    </tr>\n",
       "    <tr>\n",
       "      <th>3</th>\n",
       "      <td>0.0</td>\n",
       "      <td>29.699118</td>\n",
       "      <td>0.0000</td>\n",
       "      <td>1.0</td>\n",
       "      <td>0.0</td>\n",
       "      <td>0.0</td>\n",
       "      <td>0.0</td>\n",
       "      <td>1.0</td>\n",
       "      <td>1.0</td>\n",
       "      <td>0.0</td>\n",
       "      <td>...</td>\n",
       "      <td>1.0</td>\n",
       "      <td>0.0</td>\n",
       "      <td>0.0</td>\n",
       "      <td>0.0</td>\n",
       "      <td>0.0</td>\n",
       "      <td>0.0</td>\n",
       "      <td>0.0</td>\n",
       "      <td>0.0</td>\n",
       "      <td>0.0</td>\n",
       "      <td>1.0</td>\n",
       "    </tr>\n",
       "    <tr>\n",
       "      <th>4</th>\n",
       "      <td>0.0</td>\n",
       "      <td>17.000000</td>\n",
       "      <td>8.6625</td>\n",
       "      <td>0.0</td>\n",
       "      <td>0.0</td>\n",
       "      <td>1.0</td>\n",
       "      <td>0.0</td>\n",
       "      <td>1.0</td>\n",
       "      <td>1.0</td>\n",
       "      <td>0.0</td>\n",
       "      <td>...</td>\n",
       "      <td>1.0</td>\n",
       "      <td>0.0</td>\n",
       "      <td>0.0</td>\n",
       "      <td>0.0</td>\n",
       "      <td>0.0</td>\n",
       "      <td>0.0</td>\n",
       "      <td>0.0</td>\n",
       "      <td>0.0</td>\n",
       "      <td>0.0</td>\n",
       "      <td>1.0</td>\n",
       "    </tr>\n",
       "    <tr>\n",
       "      <th>...</th>\n",
       "      <td>...</td>\n",
       "      <td>...</td>\n",
       "      <td>...</td>\n",
       "      <td>...</td>\n",
       "      <td>...</td>\n",
       "      <td>...</td>\n",
       "      <td>...</td>\n",
       "      <td>...</td>\n",
       "      <td>...</td>\n",
       "      <td>...</td>\n",
       "      <td>...</td>\n",
       "      <td>...</td>\n",
       "      <td>...</td>\n",
       "      <td>...</td>\n",
       "      <td>...</td>\n",
       "      <td>...</td>\n",
       "      <td>...</td>\n",
       "      <td>...</td>\n",
       "      <td>...</td>\n",
       "      <td>...</td>\n",
       "      <td>...</td>\n",
       "    </tr>\n",
       "    <tr>\n",
       "      <th>886</th>\n",
       "      <td>0.0</td>\n",
       "      <td>65.000000</td>\n",
       "      <td>26.5500</td>\n",
       "      <td>1.0</td>\n",
       "      <td>0.0</td>\n",
       "      <td>0.0</td>\n",
       "      <td>0.0</td>\n",
       "      <td>1.0</td>\n",
       "      <td>1.0</td>\n",
       "      <td>0.0</td>\n",
       "      <td>...</td>\n",
       "      <td>1.0</td>\n",
       "      <td>0.0</td>\n",
       "      <td>0.0</td>\n",
       "      <td>0.0</td>\n",
       "      <td>0.0</td>\n",
       "      <td>0.0</td>\n",
       "      <td>0.0</td>\n",
       "      <td>0.0</td>\n",
       "      <td>0.0</td>\n",
       "      <td>1.0</td>\n",
       "    </tr>\n",
       "    <tr>\n",
       "      <th>887</th>\n",
       "      <td>0.0</td>\n",
       "      <td>19.000000</td>\n",
       "      <td>13.0000</td>\n",
       "      <td>0.0</td>\n",
       "      <td>1.0</td>\n",
       "      <td>0.0</td>\n",
       "      <td>0.0</td>\n",
       "      <td>1.0</td>\n",
       "      <td>1.0</td>\n",
       "      <td>0.0</td>\n",
       "      <td>...</td>\n",
       "      <td>1.0</td>\n",
       "      <td>0.0</td>\n",
       "      <td>0.0</td>\n",
       "      <td>0.0</td>\n",
       "      <td>0.0</td>\n",
       "      <td>0.0</td>\n",
       "      <td>0.0</td>\n",
       "      <td>0.0</td>\n",
       "      <td>0.0</td>\n",
       "      <td>1.0</td>\n",
       "    </tr>\n",
       "    <tr>\n",
       "      <th>888</th>\n",
       "      <td>0.0</td>\n",
       "      <td>44.000000</td>\n",
       "      <td>8.0500</td>\n",
       "      <td>0.0</td>\n",
       "      <td>0.0</td>\n",
       "      <td>1.0</td>\n",
       "      <td>0.0</td>\n",
       "      <td>1.0</td>\n",
       "      <td>1.0</td>\n",
       "      <td>0.0</td>\n",
       "      <td>...</td>\n",
       "      <td>1.0</td>\n",
       "      <td>0.0</td>\n",
       "      <td>0.0</td>\n",
       "      <td>0.0</td>\n",
       "      <td>0.0</td>\n",
       "      <td>0.0</td>\n",
       "      <td>0.0</td>\n",
       "      <td>0.0</td>\n",
       "      <td>0.0</td>\n",
       "      <td>1.0</td>\n",
       "    </tr>\n",
       "    <tr>\n",
       "      <th>889</th>\n",
       "      <td>0.0</td>\n",
       "      <td>59.000000</td>\n",
       "      <td>7.2500</td>\n",
       "      <td>0.0</td>\n",
       "      <td>0.0</td>\n",
       "      <td>1.0</td>\n",
       "      <td>0.0</td>\n",
       "      <td>1.0</td>\n",
       "      <td>1.0</td>\n",
       "      <td>0.0</td>\n",
       "      <td>...</td>\n",
       "      <td>1.0</td>\n",
       "      <td>0.0</td>\n",
       "      <td>0.0</td>\n",
       "      <td>0.0</td>\n",
       "      <td>0.0</td>\n",
       "      <td>0.0</td>\n",
       "      <td>0.0</td>\n",
       "      <td>0.0</td>\n",
       "      <td>0.0</td>\n",
       "      <td>1.0</td>\n",
       "    </tr>\n",
       "    <tr>\n",
       "      <th>890</th>\n",
       "      <td>0.0</td>\n",
       "      <td>29.699118</td>\n",
       "      <td>39.6000</td>\n",
       "      <td>1.0</td>\n",
       "      <td>0.0</td>\n",
       "      <td>0.0</td>\n",
       "      <td>0.0</td>\n",
       "      <td>1.0</td>\n",
       "      <td>1.0</td>\n",
       "      <td>0.0</td>\n",
       "      <td>...</td>\n",
       "      <td>1.0</td>\n",
       "      <td>0.0</td>\n",
       "      <td>0.0</td>\n",
       "      <td>0.0</td>\n",
       "      <td>0.0</td>\n",
       "      <td>0.0</td>\n",
       "      <td>0.0</td>\n",
       "      <td>1.0</td>\n",
       "      <td>0.0</td>\n",
       "      <td>0.0</td>\n",
       "    </tr>\n",
       "  </tbody>\n",
       "</table>\n",
       "<p>891 rows × 25 columns</p>\n",
       "</div>"
      ],
      "text/plain": [
       "     Survived        Age     Fare  Pclass_1  Pclass_2  Pclass_3  Sex_female  \\\n",
       "0         0.0  28.500000   7.2292       0.0       0.0       1.0         0.0   \n",
       "1         1.0  27.000000  10.5000       0.0       1.0       0.0         1.0   \n",
       "2         1.0  29.699118  16.1000       0.0       0.0       1.0         1.0   \n",
       "3         0.0  29.699118   0.0000       1.0       0.0       0.0         0.0   \n",
       "4         0.0  17.000000   8.6625       0.0       0.0       1.0         0.0   \n",
       "..        ...        ...      ...       ...       ...       ...         ...   \n",
       "886       0.0  65.000000  26.5500       1.0       0.0       0.0         0.0   \n",
       "887       0.0  19.000000  13.0000       0.0       1.0       0.0         0.0   \n",
       "888       0.0  44.000000   8.0500       0.0       0.0       1.0         0.0   \n",
       "889       0.0  59.000000   7.2500       0.0       0.0       1.0         0.0   \n",
       "890       0.0  29.699118  39.6000       1.0       0.0       0.0         0.0   \n",
       "\n",
       "     Sex_male  SibSp_0  SibSp_1  ...  Parch_0  Parch_1  Parch_2  Parch_3  \\\n",
       "0         1.0      1.0      0.0  ...      1.0      0.0      0.0      0.0   \n",
       "1         0.0      1.0      0.0  ...      1.0      0.0      0.0      0.0   \n",
       "2         0.0      0.0      1.0  ...      1.0      0.0      0.0      0.0   \n",
       "3         1.0      1.0      0.0  ...      1.0      0.0      0.0      0.0   \n",
       "4         1.0      1.0      0.0  ...      1.0      0.0      0.0      0.0   \n",
       "..        ...      ...      ...  ...      ...      ...      ...      ...   \n",
       "886       1.0      1.0      0.0  ...      1.0      0.0      0.0      0.0   \n",
       "887       1.0      1.0      0.0  ...      1.0      0.0      0.0      0.0   \n",
       "888       1.0      1.0      0.0  ...      1.0      0.0      0.0      0.0   \n",
       "889       1.0      1.0      0.0  ...      1.0      0.0      0.0      0.0   \n",
       "890       1.0      1.0      0.0  ...      1.0      0.0      0.0      0.0   \n",
       "\n",
       "     Parch_4  Parch_5  Parch_6  Embarked_C  Embarked_Q  Embarked_S  \n",
       "0        0.0      0.0      0.0         1.0         0.0         0.0  \n",
       "1        0.0      0.0      0.0         0.0         0.0         1.0  \n",
       "2        0.0      0.0      0.0         0.0         0.0         1.0  \n",
       "3        0.0      0.0      0.0         0.0         0.0         1.0  \n",
       "4        0.0      0.0      0.0         0.0         0.0         1.0  \n",
       "..       ...      ...      ...         ...         ...         ...  \n",
       "886      0.0      0.0      0.0         0.0         0.0         1.0  \n",
       "887      0.0      0.0      0.0         0.0         0.0         1.0  \n",
       "888      0.0      0.0      0.0         0.0         0.0         1.0  \n",
       "889      0.0      0.0      0.0         0.0         0.0         1.0  \n",
       "890      0.0      0.0      0.0         1.0         0.0         0.0  \n",
       "\n",
       "[891 rows x 25 columns]"
      ]
     },
     "execution_count": 47,
     "metadata": {},
     "output_type": "execute_result"
    }
   ],
   "source": [
    "df = pd.DataFrame(df1, columns=train_data.columns.values)\n",
    "df"
   ]
  },
  {
   "cell_type": "code",
   "execution_count": 48,
   "metadata": {
    "scrolled": true
   },
   "outputs": [
    {
     "data": {
      "text/plain": [
       "Survived        2\n",
       "Age            89\n",
       "Fare          248\n",
       "Pclass_1        2\n",
       "Pclass_2        2\n",
       "Pclass_3        2\n",
       "Sex_female      2\n",
       "Sex_male        2\n",
       "SibSp_0         2\n",
       "SibSp_1         2\n",
       "SibSp_2         2\n",
       "SibSp_3         2\n",
       "SibSp_4         2\n",
       "SibSp_5         2\n",
       "SibSp_8         2\n",
       "Parch_0         2\n",
       "Parch_1         2\n",
       "Parch_2         2\n",
       "Parch_3         2\n",
       "Parch_4         2\n",
       "Parch_5         2\n",
       "Parch_6         2\n",
       "Embarked_C      2\n",
       "Embarked_Q      2\n",
       "Embarked_S      2\n",
       "dtype: int64"
      ]
     },
     "execution_count": 48,
     "metadata": {},
     "output_type": "execute_result"
    }
   ],
   "source": [
    "df.nunique()"
   ]
  },
  {
   "cell_type": "code",
   "execution_count": 49,
   "metadata": {},
   "outputs": [
    {
     "name": "stdout",
     "output_type": "stream",
     "text": [
      "<class 'pandas.core.frame.DataFrame'>\n",
      "RangeIndex: 891 entries, 0 to 890\n",
      "Data columns (total 25 columns):\n",
      " #   Column      Non-Null Count  Dtype  \n",
      "---  ------      --------------  -----  \n",
      " 0   Survived    891 non-null    float64\n",
      " 1   Age         891 non-null    float64\n",
      " 2   Fare        891 non-null    float64\n",
      " 3   Pclass_1    891 non-null    float64\n",
      " 4   Pclass_2    891 non-null    float64\n",
      " 5   Pclass_3    891 non-null    float64\n",
      " 6   Sex_female  891 non-null    float64\n",
      " 7   Sex_male    891 non-null    float64\n",
      " 8   SibSp_0     891 non-null    float64\n",
      " 9   SibSp_1     891 non-null    float64\n",
      " 10  SibSp_2     891 non-null    float64\n",
      " 11  SibSp_3     891 non-null    float64\n",
      " 12  SibSp_4     891 non-null    float64\n",
      " 13  SibSp_5     891 non-null    float64\n",
      " 14  SibSp_8     891 non-null    float64\n",
      " 15  Parch_0     891 non-null    float64\n",
      " 16  Parch_1     891 non-null    float64\n",
      " 17  Parch_2     891 non-null    float64\n",
      " 18  Parch_3     891 non-null    float64\n",
      " 19  Parch_4     891 non-null    float64\n",
      " 20  Parch_5     891 non-null    float64\n",
      " 21  Parch_6     891 non-null    float64\n",
      " 22  Embarked_C  891 non-null    float64\n",
      " 23  Embarked_Q  891 non-null    float64\n",
      " 24  Embarked_S  891 non-null    float64\n",
      "dtypes: float64(25)\n",
      "memory usage: 174.1 KB\n"
     ]
    }
   ],
   "source": [
    "df.info()"
   ]
  },
  {
   "cell_type": "markdown",
   "metadata": {},
   "source": [
    "# **3. Reduction de Dimension**\n",
    "### **3.1. AFCM**"
   ]
  },
  {
   "cell_type": "code",
   "execution_count": 50,
   "metadata": {},
   "outputs": [
    {
     "data": {
      "text/html": [
       "<div>\n",
       "<style scoped>\n",
       "    .dataframe tbody tr th:only-of-type {\n",
       "        vertical-align: middle;\n",
       "    }\n",
       "\n",
       "    .dataframe tbody tr th {\n",
       "        vertical-align: top;\n",
       "    }\n",
       "\n",
       "    .dataframe thead th {\n",
       "        text-align: right;\n",
       "    }\n",
       "</style>\n",
       "<table border=\"1\" class=\"dataframe\">\n",
       "  <thead>\n",
       "    <tr style=\"text-align: right;\">\n",
       "      <th></th>\n",
       "      <th>Survived</th>\n",
       "      <th>Pclass_1</th>\n",
       "      <th>Pclass_2</th>\n",
       "      <th>Pclass_3</th>\n",
       "      <th>Sex_female</th>\n",
       "      <th>Sex_male</th>\n",
       "      <th>Embarked_C</th>\n",
       "      <th>Embarked_Q</th>\n",
       "      <th>Embarked_S</th>\n",
       "    </tr>\n",
       "  </thead>\n",
       "  <tbody>\n",
       "    <tr>\n",
       "      <th>0</th>\n",
       "      <td>0.0</td>\n",
       "      <td>0.0</td>\n",
       "      <td>0.0</td>\n",
       "      <td>1.0</td>\n",
       "      <td>0.0</td>\n",
       "      <td>1.0</td>\n",
       "      <td>1.0</td>\n",
       "      <td>0.0</td>\n",
       "      <td>0.0</td>\n",
       "    </tr>\n",
       "    <tr>\n",
       "      <th>1</th>\n",
       "      <td>1.0</td>\n",
       "      <td>0.0</td>\n",
       "      <td>1.0</td>\n",
       "      <td>0.0</td>\n",
       "      <td>1.0</td>\n",
       "      <td>0.0</td>\n",
       "      <td>0.0</td>\n",
       "      <td>0.0</td>\n",
       "      <td>1.0</td>\n",
       "    </tr>\n",
       "    <tr>\n",
       "      <th>2</th>\n",
       "      <td>1.0</td>\n",
       "      <td>0.0</td>\n",
       "      <td>0.0</td>\n",
       "      <td>1.0</td>\n",
       "      <td>1.0</td>\n",
       "      <td>0.0</td>\n",
       "      <td>0.0</td>\n",
       "      <td>0.0</td>\n",
       "      <td>1.0</td>\n",
       "    </tr>\n",
       "    <tr>\n",
       "      <th>3</th>\n",
       "      <td>0.0</td>\n",
       "      <td>1.0</td>\n",
       "      <td>0.0</td>\n",
       "      <td>0.0</td>\n",
       "      <td>0.0</td>\n",
       "      <td>1.0</td>\n",
       "      <td>0.0</td>\n",
       "      <td>0.0</td>\n",
       "      <td>1.0</td>\n",
       "    </tr>\n",
       "    <tr>\n",
       "      <th>4</th>\n",
       "      <td>0.0</td>\n",
       "      <td>0.0</td>\n",
       "      <td>0.0</td>\n",
       "      <td>1.0</td>\n",
       "      <td>0.0</td>\n",
       "      <td>1.0</td>\n",
       "      <td>0.0</td>\n",
       "      <td>0.0</td>\n",
       "      <td>1.0</td>\n",
       "    </tr>\n",
       "  </tbody>\n",
       "</table>\n",
       "</div>"
      ],
      "text/plain": [
       "   Survived  Pclass_1  Pclass_2  Pclass_3  Sex_female  Sex_male  Embarked_C  \\\n",
       "0       0.0       0.0       0.0       1.0         0.0       1.0         1.0   \n",
       "1       1.0       0.0       1.0       0.0         1.0       0.0         0.0   \n",
       "2       1.0       0.0       0.0       1.0         1.0       0.0         0.0   \n",
       "3       0.0       1.0       0.0       0.0         0.0       1.0         0.0   \n",
       "4       0.0       0.0       0.0       1.0         0.0       1.0         0.0   \n",
       "\n",
       "   Embarked_Q  Embarked_S  \n",
       "0         0.0         0.0  \n",
       "1         0.0         1.0  \n",
       "2         0.0         1.0  \n",
       "3         0.0         1.0  \n",
       "4         0.0         1.0  "
      ]
     },
     "execution_count": 50,
     "metadata": {},
     "output_type": "execute_result"
    }
   ],
   "source": [
    "# On supprime les colonnes dont nous n'avons plus besoin \n",
    "col_to_delete = [\"Age\", \"Fare\", \"SibSp_0\", \"SibSp_1\", \"SibSp_2\", \"SibSp_3\", \"SibSp_4\", \"SibSp_5\", \"SibSp_8\",\n",
    "                \"Parch_0\", \"Parch_1\", \"Parch_2\", \"Parch_3\", \"Parch_4\", \"Parch_5\", \"Parch_6\"]\n",
    "\n",
    "df.drop(columns=col_to_delete, inplace=True)\n",
    "\n",
    "df.head()"
   ]
  },
  {
   "cell_type": "code",
   "execution_count": 17,
   "metadata": {},
   "outputs": [],
   "source": [
    "#pip install --user mca"
   ]
  },
  {
   "cell_type": "markdown",
   "metadata": {},
   "source": [
    "## 1ere methode\n",
    "https://notebook.community/wikistat/Exploration/TutosRudim/Cal4-Python-AFCM"
   ]
  },
  {
   "cell_type": "code",
   "execution_count": 51,
   "metadata": {},
   "outputs": [
    {
     "name": "stdout",
     "output_type": "stream",
     "text": [
      "[0.43502885 0.3555986  0.32582214 0.22648833 0.19837544 0.078857  ]\n"
     ]
    }
   ],
   "source": [
    "mca=MCA(df,benzecri=False)\n",
    "# Valeurs singulières\n",
    "print(mca.L)"
   ]
  },
  {
   "cell_type": "code",
   "execution_count": 52,
   "metadata": {},
   "outputs": [
    {
     "name": "stdout",
     "output_type": "stream",
     "text": [
      "[[ 0.74341207 -0.08747727  0.3938845  -0.12137868  0.05735023]\n",
      " [ 1.08583519  0.01341465 -0.80625311 -0.1609183   0.9990831 ]\n",
      " [ 0.02748023  1.2943745   0.9504753   1.0935486  -0.14226733]\n",
      " [-0.66058195 -0.47065186 -0.09295237 -0.31082978 -0.39951668]\n",
      " [ 0.71706495 -0.29214256  0.78221713 -0.4207777  -0.25726639]\n",
      " [-0.53710116  0.17626547 -0.50349916  0.25296598  0.12867196]\n",
      " [ 1.11148329 -0.44597216 -1.0427214   0.78429954 -1.00165745]\n",
      " [-0.80832899 -2.441562    1.10608987  1.32041244  1.08684492]\n",
      " [-0.32389603  0.42243964  0.06982267 -0.3399333   0.1208258 ]]\n"
     ]
    }
   ],
   "source": [
    "# Composantes principales des colonnes (modalités)\n",
    "print(mca.fs_c())"
   ]
  },
  {
   "cell_type": "code",
   "execution_count": 53,
   "metadata": {},
   "outputs": [
    {
     "data": {
      "image/png": "[encoded data removed]",
      "text/plain": [
       "<Figure size 432x288 with 1 Axes>"
      ]
     },
     "metadata": {},
     "output_type": "display_data"
    }
   ],
   "source": [
    "# Premier plan principal\n",
    "col=[1,1,2,2,2,3,3,5,5]\n",
    "plt.scatter(mca.fs_c()[:, 0],mca.fs_c()[:, 1],c=col)\n",
    "for i, j, nom in zip(mca.fs_c()[:, 0],mca.fs_c()[:, 1], df.columns):\n",
    "       plt.text(i, j, nom)\n",
    "plt.show()"
   ]
  },
  {
   "cell_type": "markdown",
   "metadata": {},
   "source": [
    "## 2e methode\n",
    "https://github.com/esafak/mca/blob/master/docs/usage.rst"
   ]
  },
  {
   "cell_type": "code",
   "execution_count": 54,
   "metadata": {},
   "outputs": [
    {
     "name": "stdout",
     "output_type": "stream",
     "text": [
      "[[ 0.0240688   0.19088419  0.40506974 -0.13877227  0.20991266]\n",
      " [-0.24377268 -0.25857328 -0.40707802 -0.03029652  0.02738647]\n",
      " [-0.09968166  0.08272989 -0.21369041  0.1709141   0.05921346]\n",
      " ...\n",
      " [ 0.42485672 -0.03301554  0.13013967  0.07599187  0.0247472 ]\n",
      " [ 0.42485672 -0.03301554  0.13013967  0.07599187  0.0247472 ]\n",
      " [-0.46356739  0.06607893  0.58133946 -0.16741012 -0.02080113]]\n"
     ]
    }
   ],
   "source": [
    "import mca\n",
    "mca_df = mca.MCA(df)\n",
    "# Valeurs singulières\n",
    "print(mca_df.fs_r(1)) # 1 = 100%, meaning preserve all variance.)"
   ]
  },
  {
   "cell_type": "markdown",
   "metadata": {},
   "source": [
    "Les valeurs propres, ou inerties principales, des facteurs :"
   ]
  },
  {
   "cell_type": "code",
   "execution_count": 55,
   "metadata": {},
   "outputs": [
    {
     "name": "stdout",
     "output_type": "stream",
     "text": [
      "[0.13279279 0.07565164 0.05834636 0.01684788 0.00963781]\n"
     ]
    }
   ],
   "source": [
    "print(mca_df.L)"
   ]
  },
  {
   "cell_type": "markdown",
   "metadata": {},
   "source": [
    "L'inertie est simplement la somme des inerties de principales :"
   ]
  },
  {
   "cell_type": "code",
   "execution_count": 56,
   "metadata": {},
   "outputs": [
    {
     "name": "stdout",
     "output_type": "stream",
     "text": [
      "0.2932764798881712 0.2932764798881712\n"
     ]
    }
   ],
   "source": [
    "print(mca_df.inertia, mca_df.L.sum())"
   ]
  },
  {
   "cell_type": "markdown",
   "metadata": {},
   "source": [
    "Si la correction de Benzecri a été activée (par défaut), cette valeur est inférieure à la somme quadratique des valeurs singulières :"
   ]
  },
  {
   "cell_type": "code",
   "execution_count": 57,
   "metadata": {},
   "outputs": [
    {
     "name": "stdout",
     "output_type": "stream",
     "text": [
      "[6.59567168e-01 5.96320890e-01 5.70808325e-01 4.75907896e-01\n",
      " 4.45393575e-01 2.80814886e-01 1.57511727e-16 1.06682199e-16\n",
      " 8.65603068e-17]\n",
      "1.620170357475558\n"
     ]
    }
   ],
   "source": [
    "print(mca_df.s)\n",
    "print(sum(mca_df.s**2))"
   ]
  },
  {
   "cell_type": "markdown",
   "metadata": {},
   "source": [
    "La correction de Benzecri plus le seuillage a permis d'éliminer 3 des 6 colonnes. Vous pouvez ajuster le seuil en fixant le paramètre TOL (par défaut : 1e-4) dans le constructeur. Si nous n'avions pas fixé le paramètre prob de fs_r() à 1, il aurait utilisé sa valeur par défaut de 0,9 et nous aurions éliminé deux autres colonnes, ce qui aurait donné un rapport de réduction de la dimensionnalité de 6:1."
   ]
  },
  {
   "cell_type": "code",
   "execution_count": 58,
   "metadata": {},
   "outputs": [
    {
     "name": "stdout",
     "output_type": "stream",
     "text": [
      "[[ 0.0240688   0.19088419  0.40506974]\n",
      " [-0.24377268 -0.25857328 -0.40707802]\n",
      " [-0.09968166  0.08272989 -0.21369041]\n",
      " ...\n",
      " [ 0.42485672 -0.03301554  0.13013967]\n",
      " [ 0.42485672 -0.03301554  0.13013967]\n",
      " [-0.46356739  0.06607893  0.58133946]]\n"
     ]
    }
   ],
   "source": [
    "print(mca_df.fs_r())"
   ]
  },
  {
   "cell_type": "markdown",
   "metadata": {},
   "source": [
    "Le résultat est identique à la première colonne de l'invocation précédente de fs_r(1). Ceci est valable en général ; réduire prob ou N tronque simplement la matrice, exactement comme dans l'ACP. "
   ]
  },
  {
   "cell_type": "code",
   "execution_count": 59,
   "metadata": {},
   "outputs": [
    {
     "name": "stdout",
     "output_type": "stream",
     "text": [
      "[[-0.41073133  0.04034822 -0.16668076]\n",
      " [-0.59991833 -0.0061874   0.34118348]\n",
      " [-0.01518269 -0.59702029 -0.40221422]\n",
      " [ 0.36496812  0.21708455  0.03933481]\n",
      " [-0.39617468  0.13474851 -0.33101213]\n",
      " [ 0.29674562 -0.08130109  0.21306658]\n",
      " [-0.61408878  0.20570123  0.44125016]\n",
      " [ 0.4465976   1.12615172 -0.4680659 ]\n",
      " [ 0.17895088 -0.19484704 -0.02954697]]\n"
     ]
    }
   ],
   "source": [
    "# Composantes principales des colonnes (modalités)\n",
    "print(mca_df.fs_c())"
   ]
  },
  {
   "cell_type": "code",
   "execution_count": 60,
   "metadata": {},
   "outputs": [
    {
     "data": {
      "image/png": "[encoded data removed]",
      "text/plain": [
       "<Figure size 432x288 with 1 Axes>"
      ]
     },
     "metadata": {},
     "output_type": "display_data"
    }
   ],
   "source": [
    "# Premier plan principal\n",
    "col=[1,1,2,2,2,3,3,5,5]\n",
    "plt.scatter(mca_df.fs_c()[:, 0], mca_df.fs_c()[:, 1],c=col)\n",
    "for i, j, nom in zip(mca_df.fs_c()[:, 0], mca_df.fs_c()[:, 1], df.columns):\n",
    "       plt.text(i, j, nom)\n",
    "plt.show()"
   ]
  },
  {
   "cell_type": "code",
   "execution_count": null,
   "metadata": {},
   "outputs": [],
   "source": []
  }
 ],
 "metadata": {
  "kernelspec": {
   "display_name": "Python 3",
   "language": "python",
   "name": "python3"
  },
  "language_info": {
   "codemirror_mode": {
    "name": "ipython",
    "version": 3
   },
   "file_extension": ".py",
   "mimetype": "text/x-python",
   "name": "python",
   "nbconvert_exporter": "python",
   "pygments_lexer": "ipython3",
   "version": "3.8.8"
  }
 },
 "nbformat": 4,
 "nbformat_minor": 4
}
